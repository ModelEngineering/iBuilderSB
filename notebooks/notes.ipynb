{
 "cells": [
  {
   "cell_type": "markdown",
   "id": "27cc59ff-29c3-4b1a-99fa-eadf3c5a2ee8",
   "metadata": {},
   "source": [
    "# **NOTES**"
   ]
  },
  {
   "cell_type": "markdown",
   "id": "eecf25cf-39c4-4dec-ab3a-5ca65a58b6d3",
   "metadata": {},
   "source": [
    "* sklearn.preprocessing.LabelEncoder: Create unique numbers for classes\n",
    "*  sklearn.model_selection.train_test_split: Split into testing and training sets\n",
    "*  # Rescale (normalize) the rows to make them each of unit-length\n",
    "    * M_lengths = np.linalg.norm(M_reduced, axis=1)\n",
    "    * M_reduced_normalized = M_reduced / M_lengths[:, np.newaxis] # broadcasting"
   ]
  },
  {
   "cell_type": "markdown",
   "id": "fc1ffd85-e3d8-4ddd-bb3f-1eed4a2a6e52",
   "metadata": {},
   "source": [
    "# Actions"
   ]
  },
  {
   "cell_type": "markdown",
   "id": "59765140-abed-4274-88f7-6a1d9a698613",
   "metadata": {},
   "source": [
    "1. Create a co-occurrence matrix for chemical species in reactions, LHS, RHS, participant. Do SVD on the marix. Plot results and compare with correlation for k=2. Consider varying k."
   ]
  }
 ],
 "metadata": {
  "kernelspec": {
   "display_name": "Python 3 (ipykernel)",
   "language": "python",
   "name": "python3"
  },
  "language_info": {
   "codemirror_mode": {
    "name": "ipython",
    "version": 3
   },
   "file_extension": ".py",
   "mimetype": "text/x-python",
   "name": "python",
   "nbconvert_exporter": "python",
   "pygments_lexer": "ipython3",
   "version": "3.9.6"
  }
 },
 "nbformat": 4,
 "nbformat_minor": 5
}
