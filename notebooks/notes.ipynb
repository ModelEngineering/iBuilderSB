{
 "cells": [
  {
   "cell_type": "markdown",
   "id": "27cc59ff-29c3-4b1a-99fa-eadf3c5a2ee8",
   "metadata": {},
   "source": [
    "# **NOTES**"
   ]
  },
  {
   "cell_type": "markdown",
   "id": "eecf25cf-39c4-4dec-ab3a-5ca65a58b6d3",
   "metadata": {},
   "source": [
    "* sklearn.preprocessing.LabelEncoder: Create unique numbers for classes\n",
    "*  sklearn.model_selection.train_test_split: Split into testing and training sets"
   ]
  }
 ],
 "metadata": {
  "kernelspec": {
   "display_name": "Python 3 (ipykernel)",
   "language": "python",
   "name": "python3"
  },
  "language_info": {
   "codemirror_mode": {
    "name": "ipython",
    "version": 3
   },
   "file_extension": ".py",
   "mimetype": "text/x-python",
   "name": "python",
   "nbconvert_exporter": "python",
   "pygments_lexer": "ipython3",
   "version": "3.9.6"
  }
 },
 "nbformat": 4,
 "nbformat_minor": 5
}
